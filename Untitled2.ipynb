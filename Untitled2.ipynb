{
  "nbformat": 4,
  "nbformat_minor": 0,
  "metadata": {
    "colab": {
      "name": "Untitled2.ipynb",
      "provenance": [],
      "authorship_tag": "ABX9TyNnqxShJtlLUWX0Q64eYaVK",
      "include_colab_link": true
    },
    "kernelspec": {
      "name": "python3",
      "display_name": "Python 3"
    }
  },
  "cells": [
    {
      "cell_type": "markdown",
      "metadata": {
        "id": "view-in-github",
        "colab_type": "text"
      },
      "source": [
        "<a href=\"https://colab.research.google.com/github/sensouradeep/Chatbot/blob/master/Untitled2.ipynb\" target=\"_parent\"><img src=\"https://colab.research.google.com/assets/colab-badge.svg\" alt=\"Open In Colab\"/></a>"
      ]
    },
    {
      "cell_type": "code",
      "metadata": {
        "id": "PW7nXFURCB7I",
        "colab_type": "code",
        "colab": {}
      },
      "source": [
        "#chatbot ai"
      ],
      "execution_count": 1,
      "outputs": []
    },
    {
      "cell_type": "code",
      "metadata": {
        "id": "iKZ0zOGICJiv",
        "colab_type": "code",
        "colab": {
          "base_uri": "https://localhost:8080/",
          "height": 50
        },
        "outputId": "5880d64f-4749-4e36-d622-2ac7b8c27cc6"
      },
      "source": [
        "pip install nltk"
      ],
      "execution_count": 2,
      "outputs": [
        {
          "output_type": "stream",
          "text": [
            "Requirement already satisfied: nltk in /usr/local/lib/python3.6/dist-packages (3.2.5)\n",
            "Requirement already satisfied: six in /usr/local/lib/python3.6/dist-packages (from nltk) (1.15.0)\n"
          ],
          "name": "stdout"
        }
      ]
    },
    {
      "cell_type": "code",
      "metadata": {
        "id": "fb4tPmjGD0MP",
        "colab_type": "code",
        "colab": {
          "base_uri": "https://localhost:8080/",
          "height": 823
        },
        "outputId": "b97a0544-e7d0-49d6-b3e3-62a81deb5ecf"
      },
      "source": [
        "pip install newspaper3k"
      ],
      "execution_count": 3,
      "outputs": [
        {
          "output_type": "stream",
          "text": [
            "Collecting newspaper3k\n",
            "\u001b[?25l  Downloading https://files.pythonhosted.org/packages/d7/b9/51afecb35bb61b188a4b44868001de348a0e8134b4dfa00ffc191567c4b9/newspaper3k-0.2.8-py3-none-any.whl (211kB)\n",
            "\r\u001b[K     |█▌                              | 10kB 17.6MB/s eta 0:00:01\r\u001b[K     |███                             | 20kB 1.9MB/s eta 0:00:01\r\u001b[K     |████▋                           | 30kB 2.1MB/s eta 0:00:01\r\u001b[K     |██████▏                         | 40kB 2.4MB/s eta 0:00:01\r\u001b[K     |███████▊                        | 51kB 2.1MB/s eta 0:00:01\r\u001b[K     |█████████▎                      | 61kB 2.3MB/s eta 0:00:01\r\u001b[K     |██████████▉                     | 71kB 2.5MB/s eta 0:00:01\r\u001b[K     |████████████▍                   | 81kB 2.7MB/s eta 0:00:01\r\u001b[K     |██████████████                  | 92kB 2.8MB/s eta 0:00:01\r\u001b[K     |███████████████▌                | 102kB 2.8MB/s eta 0:00:01\r\u001b[K     |█████████████████               | 112kB 2.8MB/s eta 0:00:01\r\u001b[K     |██████████████████▋             | 122kB 2.8MB/s eta 0:00:01\r\u001b[K     |████████████████████▏           | 133kB 2.8MB/s eta 0:00:01\r\u001b[K     |█████████████████████▊          | 143kB 2.8MB/s eta 0:00:01\r\u001b[K     |███████████████████████▎        | 153kB 2.8MB/s eta 0:00:01\r\u001b[K     |████████████████████████▉       | 163kB 2.8MB/s eta 0:00:01\r\u001b[K     |██████████████████████████▍     | 174kB 2.8MB/s eta 0:00:01\r\u001b[K     |████████████████████████████    | 184kB 2.8MB/s eta 0:00:01\r\u001b[K     |█████████████████████████████▌  | 194kB 2.8MB/s eta 0:00:01\r\u001b[K     |███████████████████████████████ | 204kB 2.8MB/s eta 0:00:01\r\u001b[K     |████████████████████████████████| 215kB 2.8MB/s \n",
            "\u001b[?25hRequirement already satisfied: Pillow>=3.3.0 in /usr/local/lib/python3.6/dist-packages (from newspaper3k) (7.0.0)\n",
            "Collecting feedfinder2>=0.0.4\n",
            "  Downloading https://files.pythonhosted.org/packages/35/82/1251fefec3bb4b03fd966c7e7f7a41c9fc2bb00d823a34c13f847fd61406/feedfinder2-0.0.4.tar.gz\n",
            "Collecting feedparser>=5.2.1\n",
            "\u001b[?25l  Downloading https://files.pythonhosted.org/packages/91/d8/7d37fec71ff7c9dbcdd80d2b48bcdd86d6af502156fc93846fb0102cb2c4/feedparser-5.2.1.tar.bz2 (192kB)\n",
            "\u001b[K     |████████████████████████████████| 194kB 4.4MB/s \n",
            "\u001b[?25hCollecting tldextract>=2.0.1\n",
            "\u001b[?25l  Downloading https://files.pythonhosted.org/packages/12/cf/d0ff82625e53bd245d6173ce6333d190abbfcd94e4c30e54b4e16b474216/tldextract-2.2.3-py2.py3-none-any.whl (48kB)\n",
            "\u001b[K     |████████████████████████████████| 51kB 4.2MB/s \n",
            "\u001b[?25hRequirement already satisfied: requests>=2.10.0 in /usr/local/lib/python3.6/dist-packages (from newspaper3k) (2.23.0)\n",
            "Collecting tinysegmenter==0.3\n",
            "  Downloading https://files.pythonhosted.org/packages/17/82/86982e4b6d16e4febc79c2a1d68ee3b707e8a020c5d2bc4af8052d0f136a/tinysegmenter-0.3.tar.gz\n",
            "Requirement already satisfied: PyYAML>=3.11 in /usr/local/lib/python3.6/dist-packages (from newspaper3k) (3.13)\n",
            "Requirement already satisfied: python-dateutil>=2.5.3 in /usr/local/lib/python3.6/dist-packages (from newspaper3k) (2.8.1)\n",
            "Requirement already satisfied: beautifulsoup4>=4.4.1 in /usr/local/lib/python3.6/dist-packages (from newspaper3k) (4.6.3)\n",
            "Collecting jieba3k>=0.35.1\n",
            "\u001b[?25l  Downloading https://files.pythonhosted.org/packages/a9/cb/2c8332bcdc14d33b0bedd18ae0a4981a069c3513e445120da3c3f23a8aaa/jieba3k-0.35.1.zip (7.4MB)\n",
            "\u001b[K     |████████████████████████████████| 7.4MB 5.5MB/s \n",
            "\u001b[?25hRequirement already satisfied: lxml>=3.6.0 in /usr/local/lib/python3.6/dist-packages (from newspaper3k) (4.2.6)\n",
            "Collecting cssselect>=0.9.2\n",
            "  Downloading https://files.pythonhosted.org/packages/3b/d4/3b5c17f00cce85b9a1e6f91096e1cc8e8ede2e1be8e96b87ce1ed09e92c5/cssselect-1.1.0-py2.py3-none-any.whl\n",
            "Requirement already satisfied: nltk>=3.2.1 in /usr/local/lib/python3.6/dist-packages (from newspaper3k) (3.2.5)\n",
            "Requirement already satisfied: six in /usr/local/lib/python3.6/dist-packages (from feedfinder2>=0.0.4->newspaper3k) (1.15.0)\n",
            "Requirement already satisfied: idna in /usr/local/lib/python3.6/dist-packages (from tldextract>=2.0.1->newspaper3k) (2.10)\n",
            "Collecting requests-file>=1.4\n",
            "  Downloading https://files.pythonhosted.org/packages/77/86/cdb5e8eaed90796aa83a6d9f75cfbd37af553c47a291cd47bc410ef9bdb2/requests_file-1.5.1-py2.py3-none-any.whl\n",
            "Requirement already satisfied: certifi>=2017.4.17 in /usr/local/lib/python3.6/dist-packages (from requests>=2.10.0->newspaper3k) (2020.6.20)\n",
            "Requirement already satisfied: chardet<4,>=3.0.2 in /usr/local/lib/python3.6/dist-packages (from requests>=2.10.0->newspaper3k) (3.0.4)\n",
            "Requirement already satisfied: urllib3!=1.25.0,!=1.25.1,<1.26,>=1.21.1 in /usr/local/lib/python3.6/dist-packages (from requests>=2.10.0->newspaper3k) (1.24.3)\n",
            "Building wheels for collected packages: feedfinder2, feedparser, tinysegmenter, jieba3k\n",
            "  Building wheel for feedfinder2 (setup.py) ... \u001b[?25l\u001b[?25hdone\n",
            "  Created wheel for feedfinder2: filename=feedfinder2-0.0.4-cp36-none-any.whl size=3355 sha256=8b0b6f806bab9b68f6c7d7abd9f1d1bdcc13a5199caa54dee340fd4c66bbf850\n",
            "  Stored in directory: /root/.cache/pip/wheels/de/03/ca/778e3a7a627e3d98836cc890e7cb40c7575424cfd3340f40ed\n",
            "  Building wheel for feedparser (setup.py) ... \u001b[?25l\u001b[?25hdone\n",
            "  Created wheel for feedparser: filename=feedparser-5.2.1-cp36-none-any.whl size=44939 sha256=851e14f807bfbcc7b35e93ec1285fb9d237f5f7c95eb039928757db510f44ddf\n",
            "  Stored in directory: /root/.cache/pip/wheels/8c/69/b7/f52763c41c5471df57703a0ef718a32a5e81ee35dcf6d4f97f\n",
            "  Building wheel for tinysegmenter (setup.py) ... \u001b[?25l\u001b[?25hdone\n",
            "  Created wheel for tinysegmenter: filename=tinysegmenter-0.3-cp36-none-any.whl size=13538 sha256=061e221d37b98918e08bb6c1d85941856c223aace18b44c75877f8b83dc0ee24\n",
            "  Stored in directory: /root/.cache/pip/wheels/81/2b/43/a02ede72324dd40cdd7ca53aad718c7710628e91b8b0dc0f02\n",
            "  Building wheel for jieba3k (setup.py) ... \u001b[?25l\u001b[?25hdone\n",
            "  Created wheel for jieba3k: filename=jieba3k-0.35.1-cp36-none-any.whl size=7398406 sha256=f0fa5b2aed3d829d323b71c6013d617076673f8d6855d4789cd79e23228d43cf\n",
            "  Stored in directory: /root/.cache/pip/wheels/83/15/9c/a3f1f67e7f7181170ad37d32e503c35da20627c013f438ed34\n",
            "Successfully built feedfinder2 feedparser tinysegmenter jieba3k\n",
            "Installing collected packages: feedfinder2, feedparser, requests-file, tldextract, tinysegmenter, jieba3k, cssselect, newspaper3k\n",
            "Successfully installed cssselect-1.1.0 feedfinder2-0.0.4 feedparser-5.2.1 jieba3k-0.35.1 newspaper3k-0.2.8 requests-file-1.5.1 tinysegmenter-0.3 tldextract-2.2.3\n"
          ],
          "name": "stdout"
        }
      ]
    },
    {
      "cell_type": "code",
      "metadata": {
        "id": "d71xWaESD3R1",
        "colab_type": "code",
        "colab": {}
      },
      "source": [
        "from newspaper import Article\n",
        "import random\n",
        "import string\n",
        "import nltk\n",
        "from sklearn.feature_extraction.text import CountVectorizer\n",
        "from sklearn.metrics.pairwise import cosine_similarity\n",
        "import numpy as np\n",
        "import warnings\n",
        "warnings.filterwarnings('ignore')"
      ],
      "execution_count": 5,
      "outputs": []
    },
    {
      "cell_type": "code",
      "metadata": {
        "id": "cCPcnvddESVp",
        "colab_type": "code",
        "colab": {
          "base_uri": "https://localhost:8080/",
          "height": 454
        },
        "outputId": "62d670de-362f-4c24-bedd-d44cbfce0689"
      },
      "source": [
        "#download punkt file by the wizard\n",
        "nltk.download()\n"
      ],
      "execution_count": 9,
      "outputs": [
        {
          "output_type": "stream",
          "text": [
            "NLTK Downloader\n",
            "---------------------------------------------------------------------------\n",
            "    d) Download   l) List    u) Update   c) Config   h) Help   q) Quit\n",
            "---------------------------------------------------------------------------\n",
            "Downloader> h\n",
            "\n",
            "Commands:\n",
            "  d) Download a package or collection     u) Update out of date packages\n",
            "  l) List packages & collections          h) Help\n",
            "  c) View & Modify Configuration          q) Quit\n",
            "\n",
            "---------------------------------------------------------------------------\n",
            "    d) Download   l) List    u) Update   c) Config   h) Help   q) Quit\n",
            "---------------------------------------------------------------------------\n",
            "Downloader> d\n",
            "\n",
            "Download which package (l=list; x=cancel)?\n",
            "  Identifier> punkt\n",
            "    Downloading package punkt to /root/nltk_data...\n",
            "      Unzipping tokenizers/punkt.zip.\n",
            "\n",
            "---------------------------------------------------------------------------\n",
            "    d) Download   l) List    u) Update   c) Config   h) Help   q) Quit\n",
            "---------------------------------------------------------------------------\n",
            "Downloader> q\n"
          ],
          "name": "stdout"
        },
        {
          "output_type": "execute_result",
          "data": {
            "text/plain": [
              "True"
            ]
          },
          "metadata": {
            "tags": []
          },
          "execution_count": 9
        }
      ]
    },
    {
      "cell_type": "code",
      "metadata": {
        "id": "uBd9YaiBEnkE",
        "colab_type": "code",
        "colab": {}
      },
      "source": [
        "article = Article('https://en.wikipedia.org/wiki/Library_management')\n",
        "article.download()\n",
        "article.parse()\n",
        "article.nlp()\n",
        "corpus = article.text"
      ],
      "execution_count": 10,
      "outputs": []
    },
    {
      "cell_type": "code",
      "metadata": {
        "id": "apDz7Qu-Gbqd",
        "colab_type": "code",
        "colab": {
          "base_uri": "https://localhost:8080/",
          "height": 658
        },
        "outputId": "eceaf799-93e2-41ab-d31c-5f0a1f5938f2"
      },
      "source": [
        "print(corpus)"
      ],
      "execution_count": 11,
      "outputs": [
        {
          "output_type": "stream",
          "text": [
            "Library management is a sub-discipline of institutional management that focuses on specific issues faced by libraries and library management professionals. Library management encompasses normal managerial tasks, as well as intellectual freedom and fundraising responsibilities. Issues faced in library management frequently overlap with those faced in managing non-profit organizations.[1]\n",
            "\n",
            "The basic functions of library management include, but are not limited to: planning and negotiating the acquisition of materials, Interlibrary Loan (ILL) requests, stacks maintenance, overseeing fee collection, event planning, fundraising, and human resources.[2]\n",
            "\n",
            "Common library construct [ edit ]\n",
            "\n",
            "Most of the libraries that store physical media like books, periodicals, film, and other objects adhere to some derivative of the Dewey Decimal System as their method for tagging, storing, and retrieving materials based on unique identifiers.[3] The use of such systems have caused librarians to develop and leverage common constructs that act as tools for both library professionals and library users alike. These constructs include master catalogs, domain catalogs, indexes, unique identifiers, unique identifier tokens, and artifacts .\n",
            "\n",
            "A master catalog acts as a catalog of all domain or topic-specific catalogs and often directs the user to a more specific area of a library, where the user can find a more specific domain catalog. For example, upon entering a very large library, one may find a master catalog that will direct a patron to a specific wing of the library that focuses on a specific subject, such as law, history, fiction, etc.\n",
            "\n",
            "Domain catalogs are usually made up of a system of very large libraries, where a master catalog cannot hold all of the system's information. As a result, the master catalog leads the user to domain catalogs that contain homogeneous references to specific artifacts that fall within the category or domain assigned to that catalog. For example, a very large library may have many domain catalogs—one for law, one for history, one for fiction, etc. In the case of smaller libraries where the use of domain catalogs are unnecessary, the master catalog can contain all of the information.\n",
            "\n",
            "Indexes represent a grouping of artifacts by some relevant grouping constraint. The most common index groupings are \"by title,\" \"by subject,\", publisher\" and \"by author.\"\n",
            "\n",
            "Unique identifiers, also known as IDs, represent a means of assigning and tagging an artifact with a readable string of characters that is unique to that single artifact. Such identifiers usually include the address or location of the artifact within the library, and a unique character set that helps to distinguish artifacts that have common traits like common titles. Such unique identifiers are also broken into tokens and are usually placed somewhere on the surface of the artifact being stored, such as on the binding of a book, to facilitate in easily locating that item.\n",
            "\n",
            "Unique identification strings are broken into predefined and fixed position segments or sub-strings. Each segment is called a token and represents a mapping to something meaningful, hence the name unique identifier tokens. For example, one token may lead a user to a specific wing of a library, another might lead the user to a specific aisle within that wing, another to a specific bookcase within that aisle, etc., all ultimately leading to the artifact itself. Such tokens are often separated by a character that is often referred to as a tokenizer (e.g. \".\" or \":\").\n",
            "\n",
            "Artifacts represent those original things or authorized copies of things that are being categorized, stored within, and retrieved from libraries. Examples of artifacts include books, periodicals, research documentation, film, and computer disks.\n",
            "\n",
            "Planning and maintaining library facilities [ edit ]\n",
            "\n",
            "An important aspect of library management is planning and maintaining library facilities. Successful planning is defined as \"active planning that ensures an organization will have the right people in the right place at the right time for right job\" [4] Planning the construction of new libraries or remodeling those that exist is integral since user needs are often changing. To supplement their operating budget, managers often secure funding through donor gifts and fundraising. Many facilities have begun including cafes, Friends of the Library spaces, and even exhibits[5] to help generate additional revenue.[6] These areas should be taken into account when planning for building expansions.\n",
            "\n",
            "The site for new construction must be found, then the building must be designed, constructed, and eventually evaluated. Once established, it is important that the building is regularly maintained. This may be completed by delegating tasks to maintenance personnel or by hiring an outside company through bids.[7]\n",
            "\n",
            "Disaster planning must be taken into account in the library context as well: not only the impact of a disaster on the library, but the library's potential role as a support service just after a disaster.[8]\n",
            "\n",
            "Associations and publications [ edit ]\n",
            "\n",
            "The Library Leadership and Management Association (LLAMA) is a division of the American Library Association that provides leaders with webinars, conferences, and a variety of industry publications, in addition to funding through awards and grants. LLAMA membership includes a free subscription to the online quarterly magazine Library Leadership & Management, as well as discounts on other publications and related conferences.\n",
            "\n",
            "The Journal of Library Administration began in 1980 and is currently published by Routledge eight times per year. It is a peer-reviewed academic journal that discusses issues pertaining to library management.[9]\n",
            "\n",
            "References [ edit ]\n",
            "\n",
            "Suggested reading [ edit ]\n"
          ],
          "name": "stdout"
        }
      ]
    },
    {
      "cell_type": "code",
      "metadata": {
        "id": "WMmVjaFmGfSM",
        "colab_type": "code",
        "colab": {
          "base_uri": "https://localhost:8080/",
          "height": 54
        },
        "outputId": "e090566a-2ce8-464c-b046-2e36e67bea44"
      },
      "source": [
        "#tokenizer\n",
        "text = corpus\n",
        "sentence_list = nltk.sent_tokenize(text)\n",
        "print(sentence_list)"
      ],
      "execution_count": 12,
      "outputs": [
        {
          "output_type": "stream",
          "text": [
            "['Library management is a sub-discipline of institutional management that focuses on specific issues faced by libraries and library management professionals.', 'Library management encompasses normal managerial tasks, as well as intellectual freedom and fundraising responsibilities.', 'Issues faced in library management frequently overlap with those faced in managing non-profit organizations.', '[1]\\n\\nThe basic functions of library management include, but are not limited to: planning and negotiating the acquisition of materials, Interlibrary Loan (ILL) requests, stacks maintenance, overseeing fee collection, event planning, fundraising, and human resources.', '[2]\\n\\nCommon library construct [ edit ]\\n\\nMost of the libraries that store physical media like books, periodicals, film, and other objects adhere to some derivative of the Dewey Decimal System as their method for tagging, storing, and retrieving materials based on unique identifiers.', '[3] The use of such systems have caused librarians to develop and leverage common constructs that act as tools for both library professionals and library users alike.', 'These constructs include master catalogs, domain catalogs, indexes, unique identifiers, unique identifier tokens, and artifacts .', 'A master catalog acts as a catalog of all domain or topic-specific catalogs and often directs the user to a more specific area of a library, where the user can find a more specific domain catalog.', 'For example, upon entering a very large library, one may find a master catalog that will direct a patron to a specific wing of the library that focuses on a specific subject, such as law, history, fiction, etc.', \"Domain catalogs are usually made up of a system of very large libraries, where a master catalog cannot hold all of the system's information.\", 'As a result, the master catalog leads the user to domain catalogs that contain homogeneous references to specific artifacts that fall within the category or domain assigned to that catalog.', 'For example, a very large library may have many domain catalogs—one for law, one for history, one for fiction, etc.', 'In the case of smaller libraries where the use of domain catalogs are unnecessary, the master catalog can contain all of the information.', 'Indexes represent a grouping of artifacts by some relevant grouping constraint.', 'The most common index groupings are \"by title,\" \"by subject,\", publisher\" and \"by author.\"', 'Unique identifiers, also known as IDs, represent a means of assigning and tagging an artifact with a readable string of characters that is unique to that single artifact.', 'Such identifiers usually include the address or location of the artifact within the library, and a unique character set that helps to distinguish artifacts that have common traits like common titles.', 'Such unique identifiers are also broken into tokens and are usually placed somewhere on the surface of the artifact being stored, such as on the binding of a book, to facilitate in easily locating that item.', 'Unique identification strings are broken into predefined and fixed position segments or sub-strings.', 'Each segment is called a token and represents a mapping to something meaningful, hence the name unique identifier tokens.', 'For example, one token may lead a user to a specific wing of a library, another might lead the user to a specific aisle within that wing, another to a specific bookcase within that aisle, etc., all ultimately leading to the artifact itself.', 'Such tokens are often separated by a character that is often referred to as a tokenizer (e.g.', '\".\"', 'or \":\").', 'Artifacts represent those original things or authorized copies of things that are being categorized, stored within, and retrieved from libraries.', 'Examples of artifacts include books, periodicals, research documentation, film, and computer disks.', 'Planning and maintaining library facilities [ edit ]\\n\\nAn important aspect of library management is planning and maintaining library facilities.', 'Successful planning is defined as \"active planning that ensures an organization will have the right people in the right place at the right time for right job\" [4] Planning the construction of new libraries or remodeling those that exist is integral since user needs are often changing.', 'To supplement their operating budget, managers often secure funding through donor gifts and fundraising.', 'Many facilities have begun including cafes, Friends of the Library spaces, and even exhibits[5] to help generate additional revenue.', '[6] These areas should be taken into account when planning for building expansions.', 'The site for new construction must be found, then the building must be designed, constructed, and eventually evaluated.', 'Once established, it is important that the building is regularly maintained.', 'This may be completed by delegating tasks to maintenance personnel or by hiring an outside company through bids.', \"[7]\\n\\nDisaster planning must be taken into account in the library context as well: not only the impact of a disaster on the library, but the library's potential role as a support service just after a disaster.\", '[8]\\n\\nAssociations and publications [ edit ]\\n\\nThe Library Leadership and Management Association (LLAMA) is a division of the American Library Association that provides leaders with webinars, conferences, and a variety of industry publications, in addition to funding through awards and grants.', 'LLAMA membership includes a free subscription to the online quarterly magazine Library Leadership & Management, as well as discounts on other publications and related conferences.', 'The Journal of Library Administration began in 1980 and is currently published by Routledge eight times per year.', 'It is a peer-reviewed academic journal that discusses issues pertaining to library management.', '[9]\\n\\nReferences [ edit ]\\n\\nSuggested reading [ edit ]']\n"
          ],
          "name": "stdout"
        }
      ]
    },
    {
      "cell_type": "code",
      "metadata": {
        "id": "wCvTQVDMGzSU",
        "colab_type": "code",
        "colab": {}
      },
      "source": [
        "#function to return a random greeting response to users greeting \n",
        "def greeting_response(text):\n",
        "  text = text.lower()\n",
        "  bot_greetings = ['howdy','hi','hey','Hey there']\n",
        "  user_greetings = ['hi','hey','hello','hola','wassup']\n",
        "  for word in text.split():\n",
        "    if word in user_greetings:\n",
        "      return random.choice(bot_greetings)\n"
      ],
      "execution_count": 21,
      "outputs": []
    },
    {
      "cell_type": "code",
      "metadata": {
        "id": "l6SQg45hI-x8",
        "colab_type": "code",
        "colab": {}
      },
      "source": [
        "def index_sort(list_var):\n",
        "  length = len(list_var)\n",
        "  list_index = list(range(0,length))\n",
        "  x = list_var\n",
        "  for i in range(length):\n",
        "    for j in range(length):\n",
        "      if x[list_index[i]] > x[list_index[j]]:\n",
        "        temp = list_index[i]\n",
        "        list_index[i] = list_index[j]\n",
        "        list_index[j] = temp\n",
        "  return list_index        "
      ],
      "execution_count": 14,
      "outputs": []
    },
    {
      "cell_type": "code",
      "metadata": {
        "id": "rAej_VANH0jw",
        "colab_type": "code",
        "colab": {}
      },
      "source": [
        "#bot response\n",
        "def bot_response(user_input):\n",
        "  user_input = user_input.lower()\n",
        "  sentence_list.append(user_input)\n",
        "  bot_response = ''\n",
        "  #count matrix\n",
        "  cm=CountVectorizer().fit_transform(sentence_list)\n",
        "  similarity_scores = cosine_similarity(cm[-1], cm)\n",
        "  similarity_scores_list = similarity_scores.flatten()\n",
        "  #index have indices sorted for the highest values in similarity scores\n",
        "  index = index_sort(similarity_scores_list)\n",
        "  index = index[1:]\n",
        "  response_flag = 0\n",
        "\n",
        "\n",
        "  j = 0\n",
        "  for i in range(len(index)):\n",
        "    if similarity_scores_list[index[i]] > 0.0:\n",
        "      bot_response = bot_response + sentence_list[index[i]]\n",
        "      response_flag = 1\n",
        "      j = j + 1\n",
        "    if j > 2:\n",
        "      break\n",
        "\n",
        "  if response_flag == 0:\n",
        "   bot_response = bot_response+' '+\"I apologize, I dont understand.\"\n",
        "  sentence_list.remove(user_input)\n",
        "  return bot_response         \n"
      ],
      "execution_count": 26,
      "outputs": []
    },
    {
      "cell_type": "code",
      "metadata": {
        "id": "GMJG0N9OMagL",
        "colab_type": "code",
        "colab": {
          "base_uri": "https://localhost:8080/",
          "height": 322
        },
        "outputId": "9c8517dc-df52-4e74-ece4-4886feac4c60"
      },
      "source": [
        "#Start the chat\n",
        "print('Library Bot: Hello, I am online assistant of the Library Management System built by Souradeep Sen. I will answer your queries. If you want to exit, type bye')\n",
        "exit_list = ['exit','see you later','bye','quit','break']\n",
        "while(True):\n",
        "  user_input = input()\n",
        "  if user_input.lower() in exit_list:\n",
        "    print('Library Bot: Chat with you later! ')\n",
        "    break\n",
        "  else:\n",
        "    if greeting_response(user_input) != None:\n",
        "      print('Library Bot: '+greeting_response(user_input))\n",
        "    else:\n",
        "      print('Library Bot: '+bot_response(user_input))\n"
      ],
      "execution_count": 27,
      "outputs": [
        {
          "output_type": "stream",
          "text": [
            "Library Bot: Hello, I am online assistant of the Library Management System built by Souradeep Sen. I will answer your queries. If you want to exit, type bye\n",
            "hey\n",
            "Library Bot: hi\n",
            "library\n",
            "Library Bot: Planning and maintaining library facilities [ edit ]\n",
            "\n",
            "An important aspect of library management is planning and maintaining library facilities.[7]\n",
            "\n",
            "Disaster planning must be taken into account in the library context as well: not only the impact of a disaster on the library, but the library's potential role as a support service just after a disaster.Library management is a sub-discipline of institutional management that focuses on specific issues faced by libraries and library management professionals.\n",
            "hi\n",
            "Library Bot: hey\n",
            "management\n",
            "Library Bot: Library management is a sub-discipline of institutional management that focuses on specific issues faced by libraries and library management professionals.It is a peer-reviewed academic journal that discusses issues pertaining to library management.Library management encompasses normal managerial tasks, as well as intellectual freedom and fundraising responsibilities.\n",
            "soura\n",
            "Library Bot:  I apologize, I dont understand.\n",
            "bye\n",
            "Library Bot: Chat with you later! \n"
          ],
          "name": "stdout"
        }
      ]
    },
    {
      "cell_type": "code",
      "metadata": {
        "id": "baRFPXoGNU0m",
        "colab_type": "code",
        "colab": {}
      },
      "source": [
        ""
      ],
      "execution_count": null,
      "outputs": []
    }
  ]
}